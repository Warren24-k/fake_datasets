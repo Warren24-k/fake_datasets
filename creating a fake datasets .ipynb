{
 "cells": [
  {
   "cell_type": "code",
   "execution_count": 1,
   "metadata": {},
   "outputs": [
    {
     "name": "stdout",
     "output_type": "stream",
     "text": [
      "Collecting fakerNote: you may need to restart the kernel to use updated packages.\n",
      "\n",
      "  Downloading Faker-25.8.0-py3-none-any.whl (1.8 MB)\n",
      "     ---------------------------------------- 1.8/1.8 MB 994.7 kB/s eta 0:00:00\n",
      "Requirement already satisfied: python-dateutil>=2.4 in c:\\users\\hp\\anaconda3\\lib\\site-packages (from faker) (2.8.2)\n",
      "Requirement already satisfied: six>=1.5 in c:\\users\\hp\\anaconda3\\lib\\site-packages (from python-dateutil>=2.4->faker) (1.16.0)\n",
      "Installing collected packages: faker\n",
      "Successfully installed faker-25.8.0\n"
     ]
    }
   ],
   "source": [
    "pip install faker"
   ]
  },
  {
   "cell_type": "code",
   "execution_count": 2,
   "metadata": {},
   "outputs": [
    {
     "data": {
      "text/html": [
       "<div>\n",
       "<style scoped>\n",
       "    .dataframe tbody tr th:only-of-type {\n",
       "        vertical-align: middle;\n",
       "    }\n",
       "\n",
       "    .dataframe tbody tr th {\n",
       "        vertical-align: top;\n",
       "    }\n",
       "\n",
       "    .dataframe thead th {\n",
       "        text-align: right;\n",
       "    }\n",
       "</style>\n",
       "<table border=\"1\" class=\"dataframe\">\n",
       "  <thead>\n",
       "    <tr style=\"text-align: right;\">\n",
       "      <th></th>\n",
       "      <th>Field 1</th>\n",
       "      <th>Field 2</th>\n",
       "      <th>Field 3</th>\n",
       "      <th>Field 4</th>\n",
       "      <th>Field 5</th>\n",
       "    </tr>\n",
       "  </thead>\n",
       "  <tbody>\n",
       "    <tr>\n",
       "      <th>0</th>\n",
       "      <td>Samuel Wilson</td>\n",
       "      <td>Lynn Carr</td>\n",
       "      <td>Destiny Chase</td>\n",
       "      <td>Darrell Reyes</td>\n",
       "      <td>Micheal Acevedo</td>\n",
       "    </tr>\n",
       "    <tr>\n",
       "      <th>1</th>\n",
       "      <td>Michael Hicks</td>\n",
       "      <td>Gary Lang</td>\n",
       "      <td>Lisa Allen</td>\n",
       "      <td>Barbara Molina</td>\n",
       "      <td>Lisa Moyer</td>\n",
       "    </tr>\n",
       "    <tr>\n",
       "      <th>2</th>\n",
       "      <td>Tonya Martin</td>\n",
       "      <td>Katherine Mckinney</td>\n",
       "      <td>Kelly Franco</td>\n",
       "      <td>Bradley Thomas</td>\n",
       "      <td>Christopher Thompson</td>\n",
       "    </tr>\n",
       "    <tr>\n",
       "      <th>3</th>\n",
       "      <td>Ricky Chambers</td>\n",
       "      <td>Anthony Michael</td>\n",
       "      <td>Lacey Anderson</td>\n",
       "      <td>Erin Fisher</td>\n",
       "      <td>Christy Jackson</td>\n",
       "    </tr>\n",
       "    <tr>\n",
       "      <th>4</th>\n",
       "      <td>Chelsea Dixon</td>\n",
       "      <td>Michael Tran</td>\n",
       "      <td>Melissa Baker</td>\n",
       "      <td>Belinda Kramer</td>\n",
       "      <td>James Sandoval</td>\n",
       "    </tr>\n",
       "  </tbody>\n",
       "</table>\n",
       "</div>"
      ],
      "text/plain": [
       "          Field 1             Field 2         Field 3         Field 4  \\\n",
       "0   Samuel Wilson           Lynn Carr   Destiny Chase   Darrell Reyes   \n",
       "1   Michael Hicks           Gary Lang      Lisa Allen  Barbara Molina   \n",
       "2    Tonya Martin  Katherine Mckinney    Kelly Franco  Bradley Thomas   \n",
       "3  Ricky Chambers     Anthony Michael  Lacey Anderson     Erin Fisher   \n",
       "4   Chelsea Dixon        Michael Tran   Melissa Baker  Belinda Kramer   \n",
       "\n",
       "                Field 5  \n",
       "0       Micheal Acevedo  \n",
       "1            Lisa Moyer  \n",
       "2  Christopher Thompson  \n",
       "3       Christy Jackson  \n",
       "4        James Sandoval  "
      ]
     },
     "execution_count": 2,
     "metadata": {},
     "output_type": "execute_result"
    }
   ],
   "source": [
    "from faker import Faker\n",
    "import pandas as pd\n",
    "\n",
    "# Set the number of rows and columns in the dataset\n",
    "X = 100 # Replace with the desired number of rows\n",
    "y = 5 # Replace with the desired number of columns\n",
    "\n",
    "# Create a Faker object\n",
    "fake = Faker()\n",
    "\n",
    "# Create a list of field names\n",
    "field_names = ['Field ' + str(i) for i in range(1, y+1)]\n",
    "\n",
    "# Create a list of dictionaries representing the rows of the dataset\n",
    "rows = []\n",
    "for i in range(X):\n",
    "    row = {}\n",
    "    for field in field_names:\n",
    "        row[field] = fake.name()\n",
    "    rows.append(row)\n",
    "\n",
    "# Convert the list of dictionaries to a Pandas DataFrame\n",
    "df = pd.DataFrame(rows)\n",
    "\n",
    "# Print the first five rows of the dataset\n",
    "df.head()\n"
   ]
  },
  {
   "cell_type": "code",
   "execution_count": null,
   "metadata": {},
   "outputs": [],
   "source": []
  }
 ],
 "metadata": {
  "kernelspec": {
   "display_name": "Python 3 (ipykernel)",
   "language": "python",
   "name": "python3"
  },
  "language_info": {
   "codemirror_mode": {
    "name": "ipython",
    "version": 3
   },
   "file_extension": ".py",
   "mimetype": "text/x-python",
   "name": "python",
   "nbconvert_exporter": "python",
   "pygments_lexer": "ipython3",
   "version": "3.10.9"
  }
 },
 "nbformat": 4,
 "nbformat_minor": 2
}
